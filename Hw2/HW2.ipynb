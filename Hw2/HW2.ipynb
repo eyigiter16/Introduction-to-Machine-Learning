{
 "cells": [
  {
   "cell_type": "code",
   "execution_count": 1,
   "metadata": {},
   "outputs": [],
   "source": [
    "import matplotlib.pyplot as plt\n",
    "import numpy as np\n",
    "import pandas as pd\n",
    "\n",
    "def safelog(x):\n",
    "    return(np.log(x + 1e-100))"
   ]
  },
  {
   "cell_type": "markdown",
   "metadata": {},
   "source": [
    "## Importing Data"
   ]
  },
  {
   "cell_type": "code",
   "execution_count": 2,
   "metadata": {},
   "outputs": [],
   "source": [
    "# read data into memory\n",
    "data_set1 = np.genfromtxt(\"hw02_data_set_images.csv\", delimiter = \",\")\n",
    "data_set2 = np.genfromtxt(\"hw02_data_set_labels.csv\",dtype=str)\n",
    "# get train and test data in set and label forms\n",
    "for i in range(data_set2.shape[0]):\n",
    "    data_set2[i] = ord(data_set2[i].split(\"\\\"\")[1])-64\n",
    "\n",
    "k=0\n",
    "m=25\n",
    "n=39\n",
    "train_set = np.empty((0,320), int)\n",
    "test_set = np.empty((0,320), int)\n",
    "train_truth = np.empty((0), int)\n",
    "test_truth = np.empty((0), int)\n",
    "for i in range(0,5):\n",
    "    train_set = np.append(train_set, data_set1[k:m], axis=0)\n",
    "    test_set = np.append(test_set, data_set1[m:n], axis=0)\n",
    "    train_truth = np.append(train_truth, data_set2[k:m], axis=0).astype(int)\n",
    "    test_truth = np.append(test_truth, data_set2[m:n], axis=0).astype(int)\n",
    "    k = k+39\n",
    "    m = m+39\n",
    "    n = n+39\n",
    "    \n",
    "# get number of classes and number of samples\n",
    "K = np.max(train_truth)\n",
    "N = train_truth.shape[0]\n",
    "\n",
    "# one-of-K encoding\n",
    "Y_truth = np.zeros((N, K)).astype(int)\n",
    "Y_truth[range(N), train_truth - 1] = 1"
   ]
  },
  {
   "cell_type": "markdown",
   "metadata": {},
   "source": [
    "## Sigmoid Function"
   ]
  },
  {
   "attachments": {
    "1.png": {
     "image/png": "[encoded data removed]"
    }
   },
   "cell_type": "markdown",
   "metadata": {},
   "source": [
    "![1.png](attachment:1.png)"
   ]
  },
  {
   "cell_type": "code",
   "execution_count": 3,
   "metadata": {},
   "outputs": [],
   "source": [
    "# define the sigmoid function\n",
    "def sigmoid(x, W, wo):\n",
    "    return 1/(1+np.exp(-(np.matmul(x, W)+wo)))"
   ]
  },
  {
   "cell_type": "markdown",
   "metadata": {},
   "source": [
    "## Gradient Functions"
   ]
  },
  {
   "cell_type": "markdown",
   "metadata": {},
   "source": [
    "\\begin{align*}\n",
    "\\dfrac{\\partial \\textrm{Error}}{\\partial \\boldsymbol{w}} &= -\\sum\\limits_{i = 1}^{N} (y_{i} - \\widehat{y}_{i})\\boldsymbol{x}_{i} \\\\\n",
    "\\dfrac{\\partial \\textrm{Error}}{\\partial w_{0}} &= -\\sum\\limits_{i = 1}^{N} (y_{i} - \\widehat{y}_{i}) \n",
    "\\end{align*}"
   ]
  },
  {
   "cell_type": "code",
   "execution_count": 4,
   "metadata": {},
   "outputs": [],
   "source": [
    "# define the gradient functions\n",
    "def gradient_W(X, y_truth, y_predicted):\n",
    "    return(np.asarray([-np.sum(np.repeat((Y_truth[:,c] - Y_predicted[:,c])[:, None], X.shape[1], axis = 1) * X, axis = 0) for c in range(K)]).transpose())\n",
    "\n",
    "def gradient_w0(Y_truth, Y_predicted):\n",
    "    return(-np.sum(Y_truth - Y_predicted, axis = 0))"
   ]
  },
  {
   "cell_type": "markdown",
   "metadata": {},
   "source": [
    "## Algorithm Parameters"
   ]
  },
  {
   "cell_type": "code",
   "execution_count": 5,
   "metadata": {},
   "outputs": [],
   "source": [
    "# set learning parameters\n",
    "eta = 0.01\n",
    "epsilon = 1e-3"
   ]
  },
  {
   "cell_type": "markdown",
   "metadata": {},
   "source": [
    "## Parameter Initialization"
   ]
  },
  {
   "cell_type": "code",
   "execution_count": 6,
   "metadata": {},
   "outputs": [],
   "source": [
    "# randomly initalize W and w0\n",
    "np.random.seed(421)\n",
    "W = np.random.uniform(low = -0.01, high = 0.01, size = (train_set.shape[1], K))\n",
    "w0 = np.random.uniform(low = -0.01, high = 0.01, size = (1, K))"
   ]
  },
  {
   "cell_type": "markdown",
   "metadata": {},
   "source": [
    "## Iterative Algorithm"
   ]
  },
  {
   "cell_type": "markdown",
   "metadata": {},
   "source": [
    "$\\textrm{Error} = -\\sum\\limits_{i = 1}^{N} \\sum\\limits_{c = 1}^{K} \\left[ y_{ic}\\log(\\widehat{y}_{ic}) \\right]$"
   ]
  },
  {
   "cell_type": "code",
   "execution_count": 7,
   "metadata": {},
   "outputs": [
    {
     "name": "stdout",
     "output_type": "stream",
     "text": [
      "[[-0.02023951 -0.20894152 -0.03736009  0.38645689 -0.06393199]\n",
      " [-0.21365256  0.00666184 -0.37022519  0.65132877  0.06987449]\n",
      " [-0.22848106  0.22262875 -0.40266821  0.46604116  0.09470585]\n",
      " ...\n",
      " [ 0.0838139   0.41137877  0.09724862 -0.52715565 -0.36279681]\n",
      " [ 0.13001164 -0.49368446  0.10390323 -0.57839917 -0.06545466]\n",
      " [ 0.17699078 -0.71473047  0.26602823 -0.4680901  -0.04909041]]\n",
      "[[-0.14512904 -0.4970789  -0.00068896 -0.06419715 -0.44790037]]\n"
     ]
    }
   ],
   "source": [
    "# learn W and w0 using gradient descent\n",
    "iteration = 1\n",
    "objective_values = []\n",
    "while 1:\n",
    "    Y_predicted = sigmoid(train_set, W, w0)\n",
    "\n",
    "    objective_values = np.append(objective_values, 0.5*np.sum((Y_predicted - Y_truth)**2))\n",
    "\n",
    "    W_old = W\n",
    "    w0_old = w0\n",
    "\n",
    "    W = W - eta * gradient_W(train_set, Y_truth, Y_predicted)\n",
    "    w0 = w0 - eta * gradient_w0(Y_truth, Y_predicted)\n",
    "\n",
    "    if np.sqrt(np.sum((w0 - w0_old))**2 + np.sum((W - W_old)**2)) < epsilon:\n",
    "        break\n",
    "\n",
    "    iteration = iteration + 1\n",
    "print(W)\n",
    "print(w0)"
   ]
  },
  {
   "cell_type": "markdown",
   "metadata": {},
   "source": [
    "## Convergence"
   ]
  },
  {
   "cell_type": "code",
   "execution_count": 8,
   "metadata": {},
   "outputs": [
    {
     "data": {
      "image/png": "[encoded data removed]",
      "text/plain": [
       "<Figure size 720x432 with 1 Axes>"
      ]
     },
     "metadata": {
      "needs_background": "light"
     },
     "output_type": "display_data"
    }
   ],
   "source": [
    "# plot objective function during iterations\n",
    "plt.figure(figsize = (10, 6))\n",
    "plt.plot(range(1, iteration + 1), objective_values, \"k-\")\n",
    "plt.xlabel(\"Iteration\")\n",
    "plt.ylabel(\"Error\")\n",
    "plt.show()"
   ]
  },
  {
   "cell_type": "markdown",
   "metadata": {},
   "source": [
    "## Training Set Performance"
   ]
  },
  {
   "cell_type": "code",
   "execution_count": 9,
   "metadata": {},
   "outputs": [
    {
     "name": "stdout",
     "output_type": "stream",
     "text": [
      "y_truth   1   2   3   4   5\n",
      "y_pred                     \n",
      "1        25   0   0   0   0\n",
      "2         0  25   0   0   0\n",
      "3         0   0  25   0   0\n",
      "4         0   0   0  25   0\n",
      "5         0   0   0   0  25\n"
     ]
    }
   ],
   "source": [
    "# calculate confusion matrix\n",
    "y_predicted = np.argmax(Y_predicted, axis = 1) + 1 \n",
    "confusion_matrix = pd.crosstab(y_predicted, train_truth, rownames = ['y_pred'], colnames = ['y_truth'])\n",
    "print(confusion_matrix)"
   ]
  },
  {
   "cell_type": "markdown",
   "metadata": {},
   "source": [
    "## Test Set Performance"
   ]
  },
  {
   "cell_type": "code",
   "execution_count": 10,
   "metadata": {
    "scrolled": true
   },
   "outputs": [
    {
     "name": "stdout",
     "output_type": "stream",
     "text": [
      "y_truth   1   2   3   4   5\n",
      "y_pred                     \n",
      "1        13   1   0   0   0\n",
      "2         1  11   0   0   2\n",
      "3         0   0  14   0   0\n",
      "4         0   1   0  14   0\n",
      "5         0   1   0   0  12\n"
     ]
    }
   ],
   "source": [
    "# calculate confusion matrix\n",
    "Y_predicted = sigmoid(test_set, W, w0)\n",
    "y_predicted = np.argmax(Y_predicted, axis = 1) + 1 \n",
    "confusion_matrix = pd.crosstab(y_predicted, test_truth, rownames = ['y_pred'], colnames = ['y_truth'])\n",
    "print(confusion_matrix)"
   ]
  }
 ],
 "metadata": {
  "kernelspec": {
   "display_name": "Python 3",
   "language": "python",
   "name": "python3"
  },
  "language_info": {
   "codemirror_mode": {
    "name": "ipython",
    "version": 3
   },
   "file_extension": ".py",
   "mimetype": "text/x-python",
   "name": "python",
   "nbconvert_exporter": "python",
   "pygments_lexer": "ipython3",
   "version": "3.8.3"
  }
 },
 "nbformat": 4,
 "nbformat_minor": 4
}
