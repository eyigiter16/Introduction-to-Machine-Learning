{
 "cells": [
  {
   "cell_type": "markdown",
   "metadata": {},
   "source": [
    "# HW3"
   ]
  },
  {
   "cell_type": "code",
   "execution_count": 1,
   "metadata": {},
   "outputs": [],
   "source": [
    "import matplotlib.pyplot as plt\n",
    "import numpy as np\n",
    "import pandas as pd\n",
    "import seaborn as sns\n",
    "\n",
    "def safelog(x):\n",
    "    return(np.log(x + 1e-100))"
   ]
  },
  {
   "cell_type": "markdown",
   "metadata": {},
   "source": [
    "# Importing Data"
   ]
  },
  {
   "cell_type": "code",
   "execution_count": 2,
   "metadata": {},
   "outputs": [],
   "source": [
    "# read data into memory\n",
    "data_set1 = np.genfromtxt(\"hw03_data_set_images.csv\", delimiter = \",\")\n",
    "data_set2 = np.genfromtxt(\"hw03_data_set_labels.csv\",dtype=str)\n",
    "# get X and y values\n",
    "for i in range(data_set2.shape[0]):\n",
    "    data_set2[i] = ord(data_set2[i].split(\"\\\"\")[1])-64\n",
    "\n",
    "k=0\n",
    "m=25\n",
    "n=39\n",
    "train_set = np.empty((0,320), int)\n",
    "test_set = np.empty((0,320), int)\n",
    "train_truth = np.empty((0), int)\n",
    "test_truth = np.empty((0), int)\n",
    "for i in range(0,5):\n",
    "    train_set = np.append(train_set, data_set1[k:m], axis=0)\n",
    "    test_set = np.append(test_set, data_set1[m:n], axis=0)\n",
    "    train_truth = np.append(train_truth, data_set2[k:m], axis=0).astype(int)\n",
    "    test_truth = np.append(test_truth, data_set2[m:n], axis=0).astype(int)\n",
    "    k = k+39\n",
    "    m = m+39\n",
    "    n = n+39\n",
    "    \n",
    "# get number of classes and number of samples\n",
    "K = np.max(train_truth)\n",
    "N = train_truth.shape[0]"
   ]
  },
  {
   "cell_type": "markdown",
   "metadata": {},
   "source": [
    "# Parameter Estimation"
   ]
  },
  {
   "cell_type": "code",
   "execution_count": 3,
   "metadata": {},
   "outputs": [],
   "source": [
    "class_priors = [np.mean(train_truth == (i+1)) for i in range(K)]\n",
    "means = [np.mean(train_set[train_truth == i+1],axis=0) for i in range(K)]\n",
    "means = np.array(means)"
   ]
  },
  {
   "cell_type": "code",
   "execution_count": 4,
   "metadata": {},
   "outputs": [
    {
     "data": {
      "text/plain": [
       "[0.2, 0.2, 0.2, 0.2, 0.2]"
      ]
     },
     "execution_count": 4,
     "metadata": {},
     "output_type": "execute_result"
    }
   ],
   "source": [
    "class_priors"
   ]
  },
  {
   "cell_type": "markdown",
   "metadata": {},
   "source": [
    "# Plots"
   ]
  },
  {
   "cell_type": "code",
   "execution_count": 5,
   "metadata": {},
   "outputs": [
    {
     "data": {
      "image/png": "[encoded data removed]",
      "text/plain": [
       "<Figure size 144x216 with 1 Axes>"
      ]
     },
     "metadata": {},
     "output_type": "display_data"
    },
    {
     "data": {
      "image/png": "[encoded data removed]",
      "text/plain": [
       "<Figure size 144x216 with 1 Axes>"
      ]
     },
     "metadata": {},
     "output_type": "display_data"
    },
    {
     "data": {
      "image/png": "[encoded data removed]",
      "text/plain": [
       "<Figure size 144x216 with 1 Axes>"
      ]
     },
     "metadata": {},
     "output_type": "display_data"
    },
    {
     "data": {
      "image/png": "[encoded data removed]",
      "text/plain": [
       "<Figure size 144x216 with 1 Axes>"
      ]
     },
     "metadata": {},
     "output_type": "display_data"
    },
    {
     "data": {
      "image/png": "[encoded data removed]",
      "text/plain": [
       "<Figure size 144x216 with 1 Axes>"
      ]
     },
     "metadata": {},
     "output_type": "display_data"
    }
   ],
   "source": [
    "# plot objective function during iterations\n",
    "for i in range(K):\n",
    "    plt.figure(figsize = (2, 3))\n",
    "    sns.heatmap(np.transpose(means[i].reshape(16,20)), cmap ='Greys', cbar=False)\n",
    "    plt.xticks([])\n",
    "    plt.yticks([])\n",
    "    plt.show()\n"
   ]
  },
  {
   "cell_type": "markdown",
   "metadata": {},
   "source": [
    "# Score Function"
   ]
  },
  {
   "cell_type": "code",
   "execution_count": 6,
   "metadata": {},
   "outputs": [],
   "source": [
    "def calc_score(sets, means):\n",
    "    score = np.empty((sets.shape[0],K), float)\n",
    "    for i in range(K):\n",
    "        for j in range(sets.shape[0]):\n",
    "            score[j][i] = np.sum(sets[j]*safelog(means[i]) + (1-sets[j])*safelog(1-means[i])) + safelog(class_priors[i])\n",
    "    return score"
   ]
  },
  {
   "cell_type": "markdown",
   "metadata": {},
   "source": [
    "# Training Set Performance"
   ]
  },
  {
   "cell_type": "code",
   "execution_count": 7,
   "metadata": {},
   "outputs": [
    {
     "name": "stdout",
     "output_type": "stream",
     "text": [
      "y_truth   1   2   3   4   5\n",
      "y_pred                     \n",
      "1        25   0   0   0   0\n",
      "2         0  24   1   0   1\n",
      "3         0   0  24   0   0\n",
      "4         0   1   0  25   0\n",
      "5         0   0   0   0  24\n"
     ]
    }
   ],
   "source": [
    "# calculate confusion matrix\n",
    "Y_predicted = calc_score(train_set, means)\n",
    "y_predicted = np.argmax(Y_predicted, axis = 1) + 1 \n",
    "confusion_matrix = pd.crosstab(y_predicted, train_truth, rownames = ['y_pred'], colnames = ['y_truth'])\n",
    "print(confusion_matrix)"
   ]
  },
  {
   "cell_type": "markdown",
   "metadata": {},
   "source": [
    "# Test Set Performance"
   ]
  },
  {
   "cell_type": "code",
   "execution_count": 8,
   "metadata": {},
   "outputs": [
    {
     "name": "stdout",
     "output_type": "stream",
     "text": [
      "y_truth  1   2  3   4   5\n",
      "y_pred                   \n",
      "1        7   0  0   0   0\n",
      "2        0  11  3   2   4\n",
      "3        0   0  7   0   0\n",
      "4        7   3  3  12   0\n",
      "5        0   0  1   0  10\n"
     ]
    }
   ],
   "source": [
    "# calculate confusion matrix\n",
    "Y_predicted = calc_score(test_set, means)\n",
    "y_predicted = np.argmax(Y_predicted, axis = 1) + 1 \n",
    "confusion_matrix = pd.crosstab(y_predicted, test_truth, rownames = ['y_pred'], colnames = ['y_truth'])\n",
    "print(confusion_matrix)"
   ]
  }
 ],
 "metadata": {
  "kernelspec": {
   "display_name": "Python 3",
   "language": "python",
   "name": "python3"
  },
  "language_info": {
   "codemirror_mode": {
    "name": "ipython",
    "version": 3
   },
   "file_extension": ".py",
   "mimetype": "text/x-python",
   "name": "python",
   "nbconvert_exporter": "python",
   "pygments_lexer": "ipython3",
   "version": "3.8.3"
  }
 },
 "nbformat": 4,
 "nbformat_minor": 4
}
