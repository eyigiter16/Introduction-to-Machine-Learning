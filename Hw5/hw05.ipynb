{
 "cells": [
  {
   "cell_type": "markdown",
   "metadata": {},
   "source": [
    "# Homework 05\n",
    "## Ekrem Yiğiter 59721\n",
    "### December 07, 2020"
   ]
  },
  {
   "cell_type": "code",
   "execution_count": 2,
   "metadata": {},
   "outputs": [],
   "source": [
    "import math\n",
    "import matplotlib.pyplot as plt\n",
    "import numpy as np\n",
    "import scipy.stats as stats\n",
    "def safelog2(x):\n",
    "    if x == 0:\n",
    "        return (0)\n",
    "    else:\n",
    "        return (np.log2(x))"
   ]
  },
  {
   "cell_type": "markdown",
   "metadata": {},
   "source": [
    "## Importing Data"
   ]
  },
  {
   "cell_type": "code",
   "execution_count": 12,
   "metadata": {},
   "outputs": [],
   "source": [
    "# read data into memory\n",
    "data_set = np.genfromtxt(\"hw04_data_set.csv\", delimiter = \",\")\n",
    "\n",
    "# get x and y values\n",
    "x_train = data_set[1:101,0]\n",
    "y_train = data_set[1:101,1].astype(int)\n",
    "x_test = data_set[101:134,0]\n",
    "y_test = data_set[101:134,1].astype(int)\n",
    "\n",
    "# get number of samples\n",
    "K = np.max(y_train)\n",
    "N_train = x_train.shape[0]\n",
    "N_test = x_test.shape[0]"
   ]
  },
  {
   "cell_type": "markdown",
   "metadata": {},
   "source": [
    "## Initialization"
   ]
  },
  {
   "cell_type": "code",
   "execution_count": null,
   "metadata": {},
   "outputs": [],
   "source": [
    "# create necessary data structures\n",
    "node_indices = {}\n",
    "is_terminal = {}\n",
    "need_split = {}\n",
    "\n",
    "node_mean = {}\n",
    "node_splits = {}\n",
    "\n",
    "# put all training instances into the root node\n",
    "node_indices[1] = np.array(range(N_train))\n",
    "is_terminal[1] = False\n",
    "need_split[1] = True"
   ]
  },
  {
   "cell_type": "markdown",
   "metadata": {},
   "source": [
    "## Tree Inference"
   ]
  },
  {
   "cell_type": "code",
   "execution_count": 26,
   "metadata": {},
   "outputs": [
    {
     "ename": "SyntaxError",
     "evalue": "invalid syntax (<ipython-input-26-4049f86ee4af>, line 59)",
     "output_type": "error",
     "traceback": [
      "\u001b[1;36m  File \u001b[1;32m\"<ipython-input-26-4049f86ee4af>\"\u001b[1;36m, line \u001b[1;32m59\u001b[0m\n\u001b[1;33m    node_indices[2 * split_node] = left_indices\u001b[0m\n\u001b[1;37m    ^\u001b[0m\n\u001b[1;31mSyntaxError\u001b[0m\u001b[1;31m:\u001b[0m invalid syntax\n"
     ]
    }
   ],
   "source": [
    "#5 to 50 iterations (question 5)\n",
    "P_values = range(5,51,5)\n",
    "for i in P_values:\n",
    "    \n",
    "    \n",
    "    # create necessary data structures\n",
    "    node_indices = {}\n",
    "    is_terminal = {}\n",
    "    need_split = {}\n",
    "\n",
    "    node_mean = {}\n",
    "    node_splits = {}\n",
    "    \n",
    "    # put all training instances into the root node\n",
    "    node_indices[1] = np.array(range(N_train))\n",
    "    is_terminal[1] = False\n",
    "    need_split[1] = True\n",
    "\n",
    "    # learning algorithm\n",
    "    while True:\n",
    "        \n",
    "        # find nodes that need splitting\n",
    "        split_nodes = [key for key, value in need_split.items() if value == True]\n",
    "        \n",
    "        # check whether we reach all terminal nodes\n",
    "        if len(split_nodes) == 0:\n",
    "            break\n",
    "        \n",
    "        # find best split positions for all nodes\n",
    "        for split_node in split_nodes:\n",
    "            data_indices = node_indices[split_node]\n",
    "            need_split[split_node] = False\n",
    "            node_mean[split_node] = np.mean(y_train[data_indices])\n",
    "        \n",
    "            if len(np.unique(y_train[data_indices])) <= p:\n",
    "                is_terminal[split_node] = True\n",
    "            else:\n",
    "                is_terminal[split_node] = False\n",
    "\n",
    "                best_scores = 0.0\n",
    "                best_splits = 0.0\n",
    "                \n",
    "                unique_values = np.sort(np.unique(X_train[data_indices]))\n",
    "                split_positions = (unique_values[1:len(unique_values)] + unique_values[0:(len(unique_values) - 1)]) / 2\n",
    "                split_scores = np.repeat(0.0, len(split_positions))\n",
    "                for s in range(len(split_positions)):\n",
    "                    left_indices = data_indices[X_train[data_indices] < split_positions[s]]\n",
    "                    right_indices = data_indices[X_train[data_indices] >= split_positions[s]]\n",
    "                    split_scores[s] = -len(left_indices) / len(data_indices) * np.sum([np.mean(y_train[left_indices] == c + 1) * safelog2(np.mean(y_train[left_indices] == c + 1)) for c in range(K)]) - len(right_indices) / len(data_indices) * np.sum([np.mean(y_train[right_indices] == c + 1) * safelog2(np.mean(y_train[right_indices] == c + 1)) for c in range(K)])\n",
    "                    \n",
    "                best_scores = np.min(split_scores)\n",
    "                best_splits = split_positions[np.argmin(split_scores)]\n",
    "                # decide where to split on which feature\n",
    "\n",
    "                node_splits[split_node] = best_splits\n",
    "            \n",
    "                # create left node using the selected split\n",
    "                left_indices = data_indices[X_train[data_indices] <= best_splits\n",
    "                node_indices[2 * split_node] = left_indices\n",
    "                is_terminal[2 * split_node] = False\n",
    "                need_split[2 * split_node] = True\n",
    "      \n",
    "                # create right node using the selected split\n",
    "                right_indices = data_indices[X_train[data_indices] > best_splits\n",
    "                node_indices[2 * split_node + 1] = right_indices\n",
    "                is_terminal[2 * split_node + 1] = False\n",
    "                need_split[2 * split_node + 1] = True\n",
    "    y_predicted = np.repeat(0.0, N_test)\n",
    "                                             \n",
    "    "
   ]
  },
  {
   "cell_type": "markdown",
   "metadata": {},
   "source": [
    "## Regressogram"
   ]
  },
  {
   "cell_type": "markdown",
   "metadata": {},
   "source": [
    "$$\\widehat{p}(x) = \\dfrac{\\#\\{x_{i} \\textrm{ is in the same bin as } x\\}}{Nh}$$"
   ]
  },
  {
   "cell_type": "code",
   "execution_count": 5,
   "metadata": {},
   "outputs": [
    {
     "data": {
      "image/png": "[encoded data removed]",
      "text/plain": [
       "<Figure size 720x360 with 1 Axes>"
      ]
     },
     "metadata": {
      "needs_background": "light"
     },
     "output_type": "display_data"
    }
   ],
   "source": [
    "bin_width = 3\n",
    "left_borders = np.arange(minimum_value, maximum_value - bin_width, bin_width)\n",
    "right_borders = np.arange(0 + bin_width, maximum_value, bin_width)\n",
    "p_hat_reg = np.asarray([np.sum(((left_borders[i] < x_train) & (x_train <= right_borders[i])) * y_train)\\\n",
    "/np.sum((left_borders[i] < x_train) & (x_train <= right_borders[i])) for i in range(len(left_borders))])\n",
    "\n",
    "plt.figure(figsize = (10, 5))\n",
    "plt.plot(x_train, y_train, \"b.\", markersize = 10, label = 'training')\n",
    "plt.plot(x_test, y_test, \"r.\", markersize = 10, label = 'test')\n",
    "plt.legend(loc='upper left')\n",
    "plt.title('h = 3', fontweight='bold')\n",
    "plt.xlabel('x')\n",
    "plt.ylabel('y')\n",
    "for b in range(len(left_borders)):\n",
    "    plt.plot([left_borders[b], right_borders[b]], [p_hat_reg[b], p_hat_reg[b]], \"k-\")\n",
    "for b in range(len(left_borders) - 1):\n",
    "    plt.plot([right_borders[b], right_borders[b]], [p_hat_reg[b], p_hat_reg[b +1]], \"k-\")    \n",
    "plt.show()"
   ]
  },
  {
   "cell_type": "markdown",
   "metadata": {},
   "source": [
    "## Rule Extraction"
   ]
  },
  {
   "cell_type": "code",
   "execution_count": null,
   "metadata": {},
   "outputs": [],
   "source": [
    "# extract rules\n",
    "terminal_nodes = [key for key, value in is_terminal.items() if value == True]\n",
    "for terminal_node in terminal_nodes:\n",
    "    index = terminal_node\n",
    "    rules = np.array([])\n",
    "    while index > 1:\n",
    "        parent = np.floor(index / 2)\n",
    "        if index % 2 == 0:\n",
    "            # if node is left child of its parent\n",
    "            rules = np.append(rules, \"x{:d} < {:.2f}\".format(node_features[parent] + 1, node_splits[parent]))\n",
    "        else:\n",
    "            # if node is right child of its parent\n",
    "            rules = np.append(rules, \"x{:d} >= {:.2f}\".format(node_features[parent] + 1, node_splits[parent]))\n",
    "        index = parent\n",
    "    rules = np.flip(rules)\n",
    "    print(\"{} => {}\".format(rules, node_frequencies[terminal_node]))"
   ]
  },
  {
   "cell_type": "markdown",
   "metadata": {},
   "source": [
    "## RMSE for Regressogram"
   ]
  },
  {
   "attachments": {
    "image.png": {
     "image/png": "[encoded data removed]"
    }
   },
   "cell_type": "markdown",
   "metadata": {},
   "source": [
    "![image.png](attachment:image.png)"
   ]
  },
  {
   "cell_type": "code",
   "execution_count": 16,
   "metadata": {},
   "outputs": [
    {
     "name": "stdout",
     "output_type": "stream",
     "text": [
      "Regressogram => RMSE is 36.611035534888266  when h is 3\n"
     ]
    }
   ],
   "source": [
    "reg_pred = np.zeros(20)\n",
    "for i in range(20):\n",
    "    reg_pred[i] = y_test[i] - p_hat_reg[i]\n",
    "rmse_reg = np.sqrt(np.sum((reg_pred)**2)/33)\n",
    "\n",
    "print('Regressogram => RMSE is ' + str(rmse_reg) + '  when h is 3')"
   ]
  }
 ],
 "metadata": {
  "kernelspec": {
   "display_name": "Python 3",
   "language": "python",
   "name": "python3"
  },
  "language_info": {
   "codemirror_mode": {
    "name": "ipython",
    "version": 3
   },
   "file_extension": ".py",
   "mimetype": "text/x-python",
   "name": "python",
   "nbconvert_exporter": "python",
   "pygments_lexer": "ipython3",
   "version": "3.8.3"
  }
 },
 "nbformat": 4,
 "nbformat_minor": 4
}
